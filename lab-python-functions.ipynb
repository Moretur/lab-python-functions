{
 "cells": [
  {
   "cell_type": "markdown",
   "id": "25d7736c-ba17-4aff-b6bb-66eba20fbf4e",
   "metadata": {},
   "source": [
    "# Lab | Functions"
   ]
  },
  {
   "cell_type": "markdown",
   "id": "0c581062-8967-4d93-b06e-62833222f930",
   "metadata": {
    "tags": []
   },
   "source": [
    "## Exercise: Managing Customer Orders with Functions\n",
    "\n",
    "In the previous exercise, you improved the code for managing customer orders by using loops and flow control. Now, let's take it a step further and refactor the code by introducing functions.\n",
    "\n",
    "Follow the steps below to complete the exercise:\n",
    "\n",
    "1. Define a function named `initialize_inventory` that takes `products` as a parameter. Inside the function, implement the code for initializing the inventory dictionary using a loop and user input.\n",
    "\n",
    "2. Define a function named `get_customer_orders` that takes no parameters. Inside the function, implement the code for prompting the user to enter the product names using a loop. The function should return the `customer_orders` set.\n",
    "\n",
    "3. Define a function named `update_inventory` that takes `customer_orders` and `inventory` as parameters. Inside the function, implement the code for updating the inventory dictionary based on the customer orders.\n",
    "\n",
    "4. Define a function named `calculate_order_statistics` that takes `customer_orders` and `products` as parameters. Inside the function, implement the code for calculating the order statistics (total products ordered, and percentage of unique products ordered). The function should return these values.\n",
    "\n",
    "5. Define a function named `print_order_statistics` that takes `order_statistics` as a parameter. Inside the function, implement the code for printing the order statistics.\n",
    "\n",
    "6. Define a function named `print_updated_inventory` that takes `inventory` as a parameter. Inside the function, implement the code for printing the updated inventory.\n",
    "\n",
    "7. Call the functions in the appropriate sequence to execute the program and manage customer orders.\n",
    "\n",
    "Hints for functions:\n",
    "\n",
    "- Consider the input parameters required for each function and their return values.\n",
    "- Utilize function parameters and return values to transfer data between functions.\n",
    "- Test your functions individually to ensure they work correctly.\n",
    "\n",
    "\n"
   ]
  },
  {
   "cell_type": "code",
   "execution_count": 38,
   "id": "cce79832",
   "metadata": {},
   "outputs": [],
   "source": [
    "products = [\"t-shirt\", \"mug\", \"hat\", \"book\", \"keychain\"]\n",
    "inventario = {}\n",
    "\n",
    "def initialize_inventory(products):\n",
    "    for item in products:\n",
    "        cantidad = int(input(f\"Por favor, introduzca el número de {item}: \"))\n",
    "        inventario[item] = cantidad\n",
    "    return inventario\n"
   ]
  },
  {
   "cell_type": "code",
   "execution_count": 39,
   "id": "61ede148",
   "metadata": {},
   "outputs": [
    {
     "data": {
      "text/plain": [
       "{'t-shirt': 10, 'mug': 20, 'hat': 30, 'book': 40, 'keychain': 50}"
      ]
     },
     "execution_count": 39,
     "metadata": {},
     "output_type": "execute_result"
    }
   ],
   "source": [
    "initialize_inventory(products)"
   ]
  },
  {
   "cell_type": "code",
   "execution_count": 40,
   "id": "94f1103e",
   "metadata": {},
   "outputs": [],
   "source": [
    "def get_customer_orders():\n",
    "    customer_orders = set()\n",
    "    while True:\n",
    "        item = input(\"Introduzca un artículo: \").lower()\n",
    "        customer_orders.add(item)\n",
    "        respuesta = input(\"¿Quiere seguir comprando? (Si/No): \")\n",
    "        if respuesta != \"Si\":\n",
    "            print(f\"Gracias, su pedido es: {customer_orders}\")\n",
    "            break\n",
    "\n",
    "    return customer_orders"
   ]
  },
  {
   "cell_type": "code",
   "execution_count": 41,
   "id": "eaef501a",
   "metadata": {},
   "outputs": [
    {
     "name": "stdout",
     "output_type": "stream",
     "text": [
      "Gracias, su pedido es: {'t-shirt', 'hat', 'keychain'}\n"
     ]
    }
   ],
   "source": [
    "customer_orders = get_customer_orders()"
   ]
  },
  {
   "cell_type": "code",
   "execution_count": 42,
   "id": "2ac08e96",
   "metadata": {},
   "outputs": [],
   "source": [
    "def update_inventory(customer_orders, inventario):\n",
    "    for item in customer_orders:\n",
    "     if item in inventario:\n",
    "        inventario[item] -= 1\n",
    "    print(f\"Inventario actualizado:{inventario}\")\n",
    "    return inventario"
   ]
  },
  {
   "cell_type": "code",
   "execution_count": 43,
   "id": "02f6b64f",
   "metadata": {},
   "outputs": [
    {
     "name": "stdout",
     "output_type": "stream",
     "text": [
      "Inventario actualizado:{'t-shirt': 9, 'mug': 20, 'hat': 29, 'book': 40, 'keychain': 49}\n"
     ]
    }
   ],
   "source": [
    "updated_customer_order = update_inventory(customer_orders, inventario)"
   ]
  },
  {
   "cell_type": "code",
   "execution_count": 44,
   "id": "b803069c",
   "metadata": {},
   "outputs": [],
   "source": [
    "def calculate_order_statistics(customer_orders, products):\n",
    "    customer_percentage = len(customer_orders)/len(products) * 100\n",
    "    total_products_ordered= len(customer_orders)\n",
    "    return total_products_ordered, customer_percentage\n",
    "    "
   ]
  },
  {
   "cell_type": "code",
   "execution_count": 50,
   "id": "adeb79ea",
   "metadata": {},
   "outputs": [],
   "source": [
    "def print_order_statistics(order_statistics):\n",
    "    order_statistics = calculate_order_statistics(customer_orders, products)\n",
    "    return print (order_statistics)"
   ]
  },
  {
   "cell_type": "code",
   "execution_count": 51,
   "id": "c6588c7e",
   "metadata": {},
   "outputs": [
    {
     "name": "stdout",
     "output_type": "stream",
     "text": [
      "(3, 60.0)\n"
     ]
    }
   ],
   "source": [
    "print_order_statistics(order_statistics)"
   ]
  },
  {
   "cell_type": "code",
   "execution_count": 53,
   "id": "7c22dde2",
   "metadata": {},
   "outputs": [],
   "source": [
    "def print_updated_inventory(inventario):\n",
    "    print(\"Inventario actualizado:\")\n",
    "    for item, cantidad in inventario.items():\n",
    "        print(f\"{item}: {cantidad}\")"
   ]
  },
  {
   "cell_type": "code",
   "execution_count": 54,
   "id": "1bc3d240",
   "metadata": {},
   "outputs": [
    {
     "name": "stdout",
     "output_type": "stream",
     "text": [
      "Inventario actualizado:\n",
      "t-shirt: 9\n",
      "mug: 20\n",
      "hat: 29\n",
      "book: 40\n",
      "keychain: 49\n"
     ]
    }
   ],
   "source": [
    "print_updated_inventory(inventario)"
   ]
  },
  {
   "cell_type": "code",
   "execution_count": 55,
   "id": "28b6bed9",
   "metadata": {},
   "outputs": [
    {
     "name": "stdout",
     "output_type": "stream",
     "text": [
      "Gracias, su pedido es: {'t-shirt', 'hat', 'keychain'}\n",
      "Inventario actualizado:{'t-shirt': 9, 'mug': 20, 'hat': 29, 'book': 40, 'keychain': 49}\n",
      "(3, 60.0)\n",
      "Inventario actualizado:\n",
      "t-shirt: 9\n",
      "mug: 20\n",
      "hat: 29\n",
      "book: 40\n",
      "keychain: 49\n"
     ]
    }
   ],
   "source": [
    "inventario = initialize_inventory(products)     \n",
    "customer_orders = get_customer_orders()\n",
    "update_inventory(customer_orders, inventario)\n",
    "order_statistics = calculate_order_statistics(customer_orders, products)\n",
    "print_order_statistics(order_statistics)\n",
    "print_updated_inventory(inventario)\n"
   ]
  }
 ],
 "metadata": {
  "kernelspec": {
   "display_name": "base",
   "language": "python",
   "name": "python3"
  },
  "language_info": {
   "codemirror_mode": {
    "name": "ipython",
    "version": 3
   },
   "file_extension": ".py",
   "mimetype": "text/x-python",
   "name": "python",
   "nbconvert_exporter": "python",
   "pygments_lexer": "ipython3",
   "version": "3.13.5"
  }
 },
 "nbformat": 4,
 "nbformat_minor": 5
}
